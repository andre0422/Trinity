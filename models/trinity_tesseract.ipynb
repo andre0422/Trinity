{
 "cells": [
  {
   "cell_type": "markdown",
   "metadata": {},
   "source": [
    "# Model training\n",
    "\n",
    "We will be using a pre-trained Tesseract model for this task. Data extracted in the eda file will be incorporated to enhance accuracy."
   ]
  },
  {
   "cell_type": "code",
   "execution_count": 1,
   "metadata": {},
   "outputs": [],
   "source": [
    "import pandas as pd \n",
    "import numpy as np \n",
    "import os\n",
    "import warnings \n",
    "warnings.filterwarnings(\"ignore\")"
   ]
  },
  {
   "cell_type": "code",
   "execution_count": 2,
   "metadata": {},
   "outputs": [],
   "source": [
    "image_file_path = []\n",
    "image_filenames = []\n",
    "\n",
    "for dirname, _, filenames in os.walk(r'C:\\Users\\andre\\Documents\\Data science portfolio projects\\trinity\\data\\images'):\n",
    "    image_file_path.append(dirname)\n",
    "    image_filenames.extend(filenames)"
   ]
  },
  {
   "cell_type": "code",
   "execution_count": 3,
   "metadata": {},
   "outputs": [
    {
     "name": "stdout",
     "output_type": "stream",
     "text": [
      "['C:\\\\Users\\\\andre\\\\Documents\\\\Data science portfolio projects\\\\trinity\\\\data\\\\images']\n",
      "['0000223278.tif', '0001136521.tif', '0001139626.tif', '0001139716.tif', '0001144288.tif', '0001431487.tif', '00043445_00043449.tif', '0011500947.tif', '0011899826.tif', '0013040651.tif', '0013043193.tif', '0013046347.tif', '0013404965.tif', '00555341.tif', '0060026250.tif', '0060026253.tif', '0060026293.tif', '0060027362.tif', '0060027384.tif', '0060027402.tif', '0060027425.tif', '0060027746.tif', '0060027768.tif', '0060027778.tif', '0060031680.tif', '0060031691.tif', '0060031745.tif', '0060032065.tif', '0060047831.tif', '0060053761.tif', '0060053785.tif', '0060059322.tif', '0060060439.tif', '0060060466.tif', '0060060480.tif', '0060060805.tif', '0060063491.tif', '0060063704.tif', '0060068160.tif', '0060068899.tif', '0060075996.tif', '0060076160.tif', '0060076186.tif', '0060076201.tif', '0060076899.tif', '0060076945.tif', '0060085465.tif', '0060087268.tif', '0060087309.tif', '0060088007.tif', '0060088183.tif', '0060091768.tif', '0060093870.tif', '0060094811.tif', '0060094822.tif', '0060095738.tif', '0060099385.tif', '0060173965.tif', '0060181312.tif', '0060201575.tif', '0060203682.tif', '0060204458.tif', '0060206240.tif', '0060207567.tif', '0060301501.tif', '0071005934.tif', '0071033192.tif', '00920343.tif', '00920576.tif', '00921466.tif', '00922240.tif', '01788629.tif', '03724950_03724951.tif', '03725237.tif', '1000031514.tif', '1001608664_1001608665.tif', '10399225.tif', '11002339.tif', '11002591.tif', '11024285.tif', '11225665.tif', '11230046.tif', '11230479.tif', '11237682_11237683.tif', '11237693_11237694.tif', '11237705.tif', '11238596.tif', '11295049.tif', '11315798.tif', '11315881.tif', '11315936.tif', '11315942.tif', '11320981.tif', '2001200321.tif', '2001207817.tif', '2001213573.tif', '2001213789.tif', '2015003772.tif', '2015020047.tif', '2015037409.tif', '2015064568.tif', '2021308414.tif', '2021637692.tif', '2021637760.tif', '2023133413.tif', '2023527344.tif', '2023591606_2023591608.tif', '2023592499.tif', '2023592544.tif', '2023592678.tif', '2024476618.tif', '2024485248.tif', '2024525658.tif', '2024526163_2024526164.tif', '2025019037.tif', '2026000180.tif', '2026000623.tif', '2028674067.tif', '2028696695.tif', '2028697011.tif', '2028703417.tif', '2028704426.tif', '2028719721.tif', '2028726871.tif', '2028729078.tif', '2028811996.tif', '2029138584.tif', '2029200005.tif', '2029370271.tif', '2029370308.tif', '2029370464.tif', '2029370804.tif', '2029372111_2029372112.tif', '2029377288.tif', '2029377295.tif', '2029377607.tif', '2029377724.tif', '2029378060.tif', '2029378157.tif', '2030015848.tif', '2030138076_2030138077.tif', '2030138139.tif', '2030305992.tif', '2030395581.tif', '2030403394_2030403397.tif', '2037023778.tif', '2040345058.tif', '2040345061.tif', '2040687664.tif', '2040735287.tif', '2041063035.tif', '2041158049.tif', '2041158261.tif', '2041222828.tif', '2041222841.tif', '2041388921.tif', '2041531460.tif', '2041531738_1761.tif', '2041532206.tif', '2041597671_2041597672.tif', '2041954112.tif', '2041954113.tif', '2042356681.tif', '2042525639.tif', '2042529534.tif', '2043342113.tif', '2043396778.tif', '2044146550.tif', '2044348020.tif', '2044348035.tif', '2044402070.tif', '2044444071.tif', '2044448039.tif', '2044688196.tif', '2044694612.tif', '2044696237.tif', '2047260303.tif', '2048616045_6046.tif', '2049142971.tif', '2050760415.tif', '2050760847.tif', '2050763071.tif', '2051801680.tif', '2055018950.tif', '2056446070.tif', '2061828225.tif', '2062100711.tif', '2062543842.tif', '2063113184.tif', '2063113779.tif', '2063162659.tif', '2063207059_7062.tif', '2063208746.tif', '2063209074_9077.tif', '2063216033.tif', '2063216131.tif', '2063233533.tif', '2063235029.tif', '2063249953.tif', '2063250015.tif', '2063319693.tif', '2063322469.tif', '2063576888.tif', '2063576893.tif', '2063590390.tif', '2063610040.tif', '2063610071.tif', '2063610103.tif', '2063610122.tif', '2063610172.tif', '2063611385.tif', '2063650388.tif', '2063846615.tif', '2064225959.tif', '2064339433.tif', '2064345524.tif', '2064978624.tif', '2065216982.tif', '2065238574.tif', '2065239368.tif', '2065364917.tif', '2065466615.tif', '2070238500.tif', '2070424009.tif', '2070424201.tif', '2070425058.tif', '2070425084.tif', '2070584510.tif', '2070750524.tif', '2071021272.tif', '2071217429.tif', '2071217430.tif', '2071217600.tif', '2071382979.tif', '2071386322.tif', '2071413111.tif', '2071413187.tif', '2071557502.tif', '2072484071.tif', '2072860354.tif', '2072957830.tif', '2072957848.tif', '2072957946.tif', '2073684118.tif', '2073684235.tif', '2073684342.tif', '2073883150.tif', '2073883154.tif', '2073883306.tif', '2073883308.tif', '2074417069.tif', '2074484114.tif', '2074660627.tif', '2077000123.tif', '2077000168_0169.tif', '2080272271.tif', '2080272310.tif', '2080705096.tif', '2080724768.tif', '2080724769.tif', '2080731237.tif', '2080972555.tif', '2080978792_8793.tif', '2083197453.tif', '2083197818_7819.tif', '2083674163_4166.tif', '2084020274_0276.tif', '2084020376.tif', '2084021796.tif', '2084021799.tif', '2084021870.tif', '2084022002.tif', '2084022076.tif', '2084022124.tif', '2084022128.tif', '2084022136.tif', '2084022139.tif', '2084022143.tif', '2084022167.tif', '2084022184.tif', '2084022243.tif', '2084022300.tif', '2084022313.tif', '2084022317.tif', '2084022347.tif', '2084022414.tif', '2084022482.tif', '2084022539.tif', '2084022627.tif', '2084022805.tif', '2084024707.tif', '2085529729.tif', '2085532852.tif', '2085534883.tif', '2085538659.tif', '2085538660.tif', '2085538756.tif', '2085539738.tif', '2085540098.tif', '2085540620.tif', '2085699092.tif', '2085699260.tif', '2085699682.tif', '2501335209_2501335213.tif', '2501336275_2501336276.tif', '2501336291_2501336296.tif', '2501336351.tif', '2501336486.tif', '2501336772.tif', '2501367970_2501368014.tif', '2501368827.tif', '2501374061_2501374062.tif', '2501605386.tif', '2502268385.tif', '2505118349.tif', '2505123539_3542.tif', '2505165622.tif', '500124393+-4395.tif', '500125099+-5100.tif', '500125481+-5481.tif', '500234635+-4635.tif', '501149455.tif', '50120516-0516.tif', '501526349.tif', '502329893.tif', '503116428+-6428.tif', '503116473+-6473.tif', '503731884+-1884.tif', '503918489+-8489.tif', '504023473_504023487.tif', '505852048_505852049.tif', '505863295.tif', '506133684.tif', '506413423.tif', '506593709+-3709.tif', '507053446.tif', '507484246.tif', '507876895.tif', '508560943+-0943.tif', '508725601+-5603.tif', '512981600_512981601.tif', '512981614.tif', '512984376.tif', '512985656_512985715.tif', '513161378_513161414.tif', '513162677.tif', '513167179.tif', '513265741_513265875.tif', '514218180+-8181.tif', '514802406+-2409.tif', '514858504_514858506.tif', '514858736.tif', '514967102+-7103.tif', '515618394+-8397.tif', '518029843_518029864.tif', '518232323+-2324.tif', '518232342+-2342.tif', '518232874+-2876.tif', '518232927+-2934.tif', '518240658+-0669.tif', '518253165+-3165.tif', '518253587+-3590.tif', '518253610+-3615.tif', '518253689+-3695.tif', '518253707+-3715.tif', '518256338+-6338.tif', '518259424+-9431.tif', '518284417+-4420.tif', '518284421+-4430.tif', '518491313+-1315.tif', '518492684+-2684.tif', '521107137+-7140.tif', '524483561+-3562.tif', '524630313+-0313.tif', '526450292+-0292.tif', '526450353+-0353.tif', '526450388+-0388.tif', '526509181+-9181.tif', '580108985+-8990.tif', '80211548.tif', '80211567.tif', '80233633.tif', '80233696.tif', '80233716.tif', '80233719.tif', '80702654.tif', '81615715.tif', '82867969.tif', '82898406.tif', '82898524.tif', '82898529.tif', '82898533.tif', '83096148.tif', '83096187.tif', '83312574_2575.tif', '83542431.tif', '83542445_2446.tif', '83542513.tif', '83544771.tif', '83553533.tif', '83553545.tif', '83553577_3578.tif', '83554921.tif', '83565210_5211.tif', '83565318.tif', '83565418.tif', '83565599.tif', '83644925.tif', '83645391.tif', '83962761.tif', '86018092.tif', '86086825_6826.tif', '86087013.tif', '86087317.tif', '86087318_7321.tif', '86087420_7422.tif', '86087462.tif', '86087495_7496.tif', '86462566.tif', '86462803.tif', '86462933.tif', '86463030.tif', '86618995.tif', '86619006.tif', '86619053.tif', '87021931.tif', '87104311.tif', '87147464.tif', '87147646.tif', '87147658.tif', '87147801.tif', '87148191.tif', '87803126.tif', '87803300.tif', '87803303.tif', '89000106.tif', '89703081.tif', '91382505.tif', '91543951_3952.tif', '91575506_5509.tif', '91660729.tif', '91660806.tif', '91668026.tif', '91691919.tif', '91781209.tif', '92173709.tif', '92185547.tif', '92185588.tif', '92204693.tif', '92214362.tif', '92243549.tif', '92856427.tif', '92857105_7106.tif', '92857672_7674.tif', '92872435.tif', '92872589.tif', '92873320_3322.tif', '92891078_1079.tif', '93115392.tif', '93118029.tif', '93118328.tif', '93216067.tif', '93413397.tif', '93416591.tif', '94389911.tif', '96052028.tif', '96063482.tif', '96063504.tif', '96403982.tif', '97072207.tif', '99380614.tif', '99380808_0809.tif', 'CTRCONTRACTS011517-1.tif', 'CTRCONTRACTS017922-7.tif', 'CTRCONTRACTS017947-7.tif', 'CTRSP-FILES025078-50.tif', 'ti00911106_1107.tif', 'ti01410937.tif', 'ti01410980.tif', 'ti09920313.tif', 'ti09922229.tif', 'ti10160632.tif', 'ti15358056_8057.tif', 'ti15609058.tif', 'ti16131011_1013.tif', 'ti16310048.tif', 'ti16310079.tif', 'ti16310152.tif', 'ti16310260.tif', 'ti16310262.tif', 'ti16310336.tif', 'ti16310407.tif', 'ti16310543.tif', 'ti16310545.tif', 'ti16310660.tif', 'ti16310857.tif', 'ti16310917.tif', 'ti16311032.tif', 'ti16311096.tif', 'ti16311155.tif', 'ti16311156.tif', 'ti16400164.tif', 'ti16400238.tif', 'ti16400316.tif', 'ti16400373.tif', 'ti16400388.tif', 'ti16400444.tif', 'ti16532219_2220.tif', 'ti16801274.tif', 'ti17120027.tif', 'ti17120099.tif', 'ti17120370.tif', 'ti17120431.tif', 'ti17120498.tif', 'ti17120743.tif', 'ti17120992.tif', 'ti31149327_9330.tif', 'ti31689113.tif', 'ti31689150.tif', 'tob02910.64.tif']\n"
     ]
    }
   ],
   "source": [
    "print(image_file_path)\n",
    "print(image_filenames)"
   ]
  },
  {
   "cell_type": "code",
   "execution_count": 4,
   "metadata": {},
   "outputs": [],
   "source": [
    "label_file_path = []\n",
    "label_filenames = []\n",
    "\n",
    "for dirname, _, filenames in os.walk(r'C:\\Users\\andre\\Documents\\Data science portfolio projects\\trinity\\data\\labels'):\n",
    "    label_file_path.append(dirname)\n",
    "    label_filenames .extend(filenames)"
   ]
  },
  {
   "cell_type": "code",
   "execution_count": 5,
   "metadata": {},
   "outputs": [
    {
     "name": "stdout",
     "output_type": "stream",
     "text": [
      "['C:\\\\Users\\\\andre\\\\Documents\\\\Data science portfolio projects\\\\trinity\\\\data\\\\labels']\n",
      "['0000223278_gt.txt', '0000223278_ocr.txt', '0001136521_gt.txt', '0001136521_ocr.txt', '0001139626_gt.txt', '0001139626_ocr.txt', '0001139716_gt.txt', '0001139716_ocr.txt', '0001144288_gt.txt', '0001144288_ocr.txt', '0001431487_gt.txt', '0001431487_ocr.txt', '00043445_00043449_gt.txt', '00043445_00043449_ocr.txt', '0011500947_gt.txt', '0011500947_ocr.txt', '0011899826_gt.txt', '0011899826_ocr.txt', '0013040651_gt.txt', '0013040651_ocr.txt', '0013043193_gt.txt', '0013043193_ocr.txt', '0013046347_gt.txt', '0013046347_ocr.txt', '0013404965_gt.txt', '0013404965_ocr.txt', '00555341_gt.txt', '00555341_ocr.txt', '0060026250_gt.txt', '0060026250_ocr.txt', '0060026253_gt.txt', '0060026253_ocr.txt', '0060026293_gt.txt', '0060026293_ocr.txt', '0060027362_gt.txt', '0060027362_ocr.txt', '0060027384_gt.txt', '0060027384_ocr.txt', '0060027402_gt.txt', '0060027402_ocr.txt', '0060027425_gt.txt', '0060027425_ocr.txt', '0060027746_gt.txt', '0060027746_ocr.txt', '0060027768_gt.txt', '0060027768_ocr.txt', '0060027778_gt.txt', '0060027778_ocr.txt', '0060031680_gt.txt', '0060031680_ocr.txt', '0060031691_gt.txt', '0060031691_ocr.txt', '0060031745_gt.txt', '0060031745_ocr.txt', '0060032065_gt.txt', '0060032065_ocr.txt', '0060047831_gt.txt', '0060047831_ocr.txt', '0060053761_gt.txt', '0060053761_ocr.txt', '0060053785_gt.txt', '0060053785_ocr.txt', '0060059322_gt.txt', '0060059322_ocr.txt', '0060060439_gt.txt', '0060060439_ocr.txt', '0060060466_gt.txt', '0060060466_ocr.txt', '0060060480_gt.txt', '0060060480_ocr.txt', '0060060805_gt.txt', '0060060805_ocr.txt', '0060063491_gt.txt', '0060063491_ocr.txt', '0060063704_gt.txt', '0060063704_ocr.txt', '0060068160_gt.txt', '0060068160_ocr.txt', '0060068899_gt.txt', '0060068899_ocr.txt', '0060075996_gt.txt', '0060075996_ocr.txt', '0060076160_gt.txt', '0060076160_ocr.txt', '0060076186_gt.txt', '0060076186_ocr.txt', '0060076201_gt.txt', '0060076201_ocr.txt', '0060076899_gt.txt', '0060076899_ocr.txt', '0060076945_gt.txt', '0060076945_ocr.txt', '0060085465_gt.txt', '0060085465_ocr.txt', '0060087268_gt.txt', '0060087268_ocr.txt', '0060087309_gt.txt', '0060087309_ocr.txt', '0060088007_gt.txt', '0060088007_ocr.txt', '0060088183_gt.txt', '0060088183_ocr.txt', '0060091768_gt.txt', '0060091768_ocr.txt', '0060093870_gt.txt', '0060093870_ocr.txt', '0060094811_gt.txt', '0060094811_ocr.txt', '0060094822_gt.txt', '0060094822_ocr.txt', '0060095738_gt.txt', '0060095738_ocr.txt', '0060099385_gt.txt', '0060099385_ocr.txt', '0060173965_gt.txt', '0060173965_ocr.txt', '0060181312_gt.txt', '0060181312_ocr.txt', '0060201575_gt.txt', '0060201575_ocr.txt', '0060203682_gt.txt', '0060203682_ocr.txt', '0060204458_gt.txt', '0060204458_ocr.txt', '0060206240_gt.txt', '0060206240_ocr.txt', '0060207567_gt.txt', '0060207567_ocr.txt', '0060301501_gt.txt', '0060301501_ocr.txt', '0071005934_gt.txt', '0071005934_ocr.txt', '0071033192_gt.txt', '0071033192_ocr.txt', '00920343_gt.txt', '00920343_ocr.txt', '00920576_gt.txt', '00920576_ocr.txt', '00921466_gt.txt', '00921466_ocr.txt', '00922240_gt.txt', '00922240_ocr.txt', '01788629_gt.txt', '01788629_ocr.txt', '03724950_03724951_gt.txt', '03724950_03724951_ocr.txt', '03725237_gt.txt', '03725237_ocr.txt', '1000031514_gt.txt', '1000031514_ocr.txt', '1001608664_1001608665_gt.txt', '1001608664_1001608665_ocr.txt', '10399225_gt.txt', '10399225_ocr.txt', '11002339_gt.txt', '11002339_ocr.txt', '11002591_gt.txt', '11002591_ocr.txt', '11024285_gt.txt', '11024285_ocr.txt', '11225665_gt.txt', '11225665_ocr.txt', '11230046_gt.txt', '11230046_ocr.txt', '11230479_gt.txt', '11230479_ocr.txt', '11237682_11237683_gt.txt', '11237682_11237683_ocr.txt', '11237693_11237694_gt.txt', '11237693_11237694_ocr.txt', '11237705_gt.txt', '11237705_ocr.txt', '11238596_gt.txt', '11238596_ocr.txt', '11295049_gt.txt', '11295049_ocr.txt', '11315798_gt.txt', '11315798_ocr.txt', '11315881_gt.txt', '11315881_ocr.txt', '11315936_gt.txt', '11315936_ocr.txt', '11315942_gt.txt', '11315942_ocr.txt', '11320981_gt.txt', '11320981_ocr.txt', '2001200321_gt.txt', '2001200321_ocr.txt', '2001207817_gt.txt', '2001207817_ocr.txt', '2001213573_gt.txt', '2001213573_ocr.txt', '2001213789_gt.txt', '2001213789_ocr.txt', '2015003772_gt.txt', '2015003772_ocr.txt', '2015020047_gt.txt', '2015020047_ocr.txt', '2015037409_gt.txt', '2015037409_ocr.txt', '2015064568_gt.txt', '2015064568_ocr.txt', '2021308414_gt.txt', '2021308414_ocr.txt', '2021637692_gt.txt', '2021637692_ocr.txt', '2021637760_gt.txt', '2021637760_ocr.txt', '2023133413_gt.txt', '2023133413_ocr.txt', '2023527344_gt.txt', '2023527344_ocr.txt', '2023591606_2023591608_gt.txt', '2023591606_2023591608_ocr.txt', '2023592499_gt.txt', '2023592499_ocr.txt', '2023592544_gt.txt', '2023592544_ocr.txt', '2023592678_gt.txt', '2023592678_ocr.txt', '2024476618_gt.txt', '2024476618_ocr.txt', '2024485248_gt.txt', '2024485248_ocr.txt', '2024525658_gt.txt', '2024525658_ocr.txt', '2024526163_2024526164_gt.txt', '2024526163_2024526164_ocr.txt', '2025019037_gt.txt', '2025019037_ocr.txt', '2026000180_gt.txt', '2026000180_ocr.txt', '2026000623_gt.txt', '2026000623_ocr.txt', '2028674067_gt.txt', '2028674067_ocr.txt', '2028696695_gt.txt', '2028696695_ocr.txt', '2028697011_gt.txt', '2028697011_ocr.txt', '2028703417_gt.txt', '2028703417_ocr.txt', '2028704426_gt.txt', '2028704426_ocr.txt', '2028719721_gt.txt', '2028719721_ocr.txt', '2028726871_gt.txt', '2028726871_ocr.txt', '2028729078_gt.txt', '2028729078_ocr.txt', '2028811996_gt.txt', '2028811996_ocr.txt', '2029138584_gt.txt', '2029138584_ocr.txt', '2029200005_gt.txt', '2029200005_ocr.txt', '2029370271_gt.txt', '2029370271_ocr.txt', '2029370308_gt.txt', '2029370308_ocr.txt', '2029370464_gt.txt', '2029370464_ocr.txt', '2029370804_gt.txt', '2029370804_ocr.txt', '2029372111_2029372112_gt.txt', '2029372111_2029372112_ocr.txt', '2029377288_gt.txt', '2029377288_ocr.txt', '2029377295_gt.txt', '2029377295_ocr.txt', '2029377607_gt.txt', '2029377607_ocr.txt', '2029377724_gt.txt', '2029377724_ocr.txt', '2029378060_gt.txt', '2029378060_ocr.txt', '2029378157_gt.txt', '2029378157_ocr.txt', '2030015848_gt.txt', '2030015848_ocr.txt', '2030138076_2030138077_gt.txt', '2030138076_2030138077_ocr.txt', '2030138139_gt.txt', '2030138139_ocr.txt', '2030305992_gt.txt', '2030305992_ocr.txt', '2030395581_gt.txt', '2030395581_ocr.txt', '2030403394_2030403397_gt.txt', '2030403394_2030403397_ocr.txt', '2037023778_gt.txt', '2037023778_ocr.txt', '2040345058_gt.txt', '2040345058_ocr.txt', '2040345061_gt.txt', '2040345061_ocr.txt', '2040687664_gt.txt', '2040687664_ocr.txt', '2040735287_gt.txt', '2040735287_ocr.txt', '2041063035_gt.txt', '2041063035_ocr.txt', '2041158049_gt.txt', '2041158049_ocr.txt', '2041158261_gt.txt', '2041158261_ocr.txt', '2041222828_gt.txt', '2041222828_ocr.txt', '2041222841_gt.txt', '2041222841_ocr.txt', '2041388921_gt.txt', '2041388921_ocr.txt', '2041531460_gt.txt', '2041531460_ocr.txt', '2041531738_1761_gt.txt', '2041531738_1761_ocr.txt', '2041532206_gt.txt', '2041532206_ocr.txt', '2041597671_2041597672_gt.txt', '2041597671_2041597672_ocr.txt', '2041954112_gt.txt', '2041954112_ocr.txt', '2041954113_gt.txt', '2041954113_ocr.txt', '2042356681_gt.txt', '2042356681_ocr.txt', '2042525639_gt.txt', '2042525639_ocr.txt', '2042529534_gt.txt', '2042529534_ocr.txt', '2043342113_gt.txt', '2043342113_ocr.txt', '2043396778_gt.txt', '2043396778_ocr.txt', '2044146550_gt.txt', '2044146550_ocr.txt', '2044348020_gt.txt', '2044348020_ocr.txt', '2044348035_gt.txt', '2044348035_ocr.txt', '2044402070_gt.txt', '2044402070_ocr.txt', '2044444071_gt.txt', '2044444071_ocr.txt', '2044448039_gt.txt', '2044448039_ocr.txt', '2044688196_gt.txt', '2044688196_ocr.txt', '2044694612_gt.txt', '2044694612_ocr.txt', '2044696237_gt.txt', '2044696237_ocr.txt', '2047260303_gt.txt', '2047260303_ocr.txt', '2048616045_6046_gt.txt', '2048616045_6046_ocr.txt', '2049142971_gt.txt', '2049142971_ocr.txt', '2050760415_gt.txt', '2050760415_ocr.txt', '2050760847_gt.txt', '2050760847_ocr.txt', '2050763071_gt.txt', '2050763071_ocr.txt', '2051801680_gt.txt', '2051801680_ocr.txt', '2055018950_gt.txt', '2055018950_ocr.txt', '2056446070_gt.txt', '2056446070_ocr.txt', '2061828225_gt.txt', '2061828225_ocr.txt', '2062100711_gt.txt', '2062100711_ocr.txt', '2062543842_gt.txt', '2062543842_ocr.txt', '2063113184_gt.txt', '2063113184_ocr.txt', '2063113779_gt.txt', '2063113779_ocr.txt', '2063162659_gt.txt', '2063162659_ocr.txt', '2063207059_7062_gt.txt', '2063207059_7062_ocr.txt', '2063208746_gt.txt', '2063208746_ocr.txt', '2063209074_9077_gt.txt', '2063209074_9077_ocr.txt', '2063216033_gt.txt', '2063216033_ocr.txt', '2063216131_gt.txt', '2063216131_ocr.txt', '2063233533_gt.txt', '2063233533_ocr.txt', '2063235029_gt.txt', '2063235029_ocr.txt', '2063249953_gt.txt', '2063249953_ocr.txt', '2063250015_gt.txt', '2063250015_ocr.txt', '2063319693_gt.txt', '2063319693_ocr.txt', '2063322469_gt.txt', '2063322469_ocr.txt', '2063576888_gt.txt', '2063576888_ocr.txt', '2063576893_gt.txt', '2063576893_ocr.txt', '2063590390_gt.txt', '2063590390_ocr.txt', '2063610040_gt.txt', '2063610040_ocr.txt', '2063610071_gt.txt', '2063610071_ocr.txt', '2063610103_gt.txt', '2063610103_ocr.txt', '2063610122_gt.txt', '2063610122_ocr.txt', '2063610172_gt.txt', '2063610172_ocr.txt', '2063611385_gt.txt', '2063611385_ocr.txt', '2063650388_gt.txt', '2063650388_ocr.txt', '2063846615_gt.txt', '2063846615_ocr.txt', '2064225959_gt.txt', '2064225959_ocr.txt', '2064339433_gt.txt', '2064339433_ocr.txt', '2064345524_gt.txt', '2064345524_ocr.txt', '2064978624_gt.txt', '2064978624_ocr.txt', '2065216982_gt.txt', '2065216982_ocr.txt', '2065238574_gt.txt', '2065238574_ocr.txt', '2065239368_gt.txt', '2065239368_ocr.txt', '2065364917_gt.txt', '2065364917_ocr.txt', '2065466615_gt.txt', '2065466615_ocr.txt', '2070238500_gt.txt', '2070238500_ocr.txt', '2070424009_gt.txt', '2070424009_ocr.txt', '2070424201_gt.txt', '2070424201_ocr.txt', '2070425058_gt.txt', '2070425058_ocr.txt', '2070425084_gt.txt', '2070425084_ocr.txt', '2070584510_gt.txt', '2070584510_ocr.txt', '2070750524_gt.txt', '2070750524_ocr.txt', '2071021272_gt.txt', '2071021272_ocr.txt', '2071217429_gt.txt', '2071217429_ocr.txt', '2071217430_gt.txt', '2071217430_ocr.txt', '2071217600_gt.txt', '2071217600_ocr.txt', '2071382979_gt.txt', '2071382979_ocr.txt', '2071386322_gt.txt', '2071386322_ocr.txt', '2071413111_gt.txt', '2071413111_ocr.txt', '2071413187_gt.txt', '2071413187_ocr.txt', '2071557502_gt.txt', '2071557502_ocr.txt', '2072484071_gt.txt', '2072484071_ocr.txt', '2072860354_gt.txt', '2072860354_ocr.txt', '2072957830_gt.txt', '2072957830_ocr.txt', '2072957848_gt.txt', '2072957848_ocr.txt', '2072957946_gt.txt', '2072957946_ocr.txt', '2073684118_gt.txt', '2073684118_ocr.txt', '2073684235_gt.txt', '2073684235_ocr.txt', '2073684342_gt.txt', '2073684342_ocr.txt', '2073883150_gt.txt', '2073883150_ocr.txt', '2073883154_gt.txt', '2073883154_ocr.txt', '2073883306_gt.txt', '2073883306_ocr.txt', '2073883308_gt.txt', '2073883308_ocr.txt', '2074417069_gt.txt', '2074417069_ocr.txt', '2074484114_gt.txt', '2074484114_ocr.txt', '2074660627_gt.txt', '2074660627_ocr.txt', '2077000123_gt.txt', '2077000123_ocr.txt', '2077000168_0169_gt.txt', '2077000168_0169_ocr.txt', '2080272271_gt.txt', '2080272271_ocr.txt', '2080272310_gt.txt', '2080272310_ocr.txt', '2080705096_gt.txt', '2080705096_ocr.txt', '2080724768_gt.txt', '2080724768_ocr.txt', '2080724769_gt.txt', '2080724769_ocr.txt', '2080731237_gt.txt', '2080731237_ocr.txt', '2080972555_gt.txt', '2080972555_ocr.txt', '2080978792_8793_gt.txt', '2080978792_8793_ocr.txt', '2083197453_gt.txt', '2083197453_ocr.txt', '2083197818_7819_gt.txt', '2083197818_7819_ocr.txt', '2083674163_4166_gt.txt', '2083674163_4166_ocr.txt', '2084020274_0276_gt.txt', '2084020274_0276_ocr.txt', '2084020376_gt.txt', '2084020376_ocr.txt', '2084021796_gt.txt', '2084021796_ocr.txt', '2084021799_gt.txt', '2084021799_ocr.txt', '2084021870_gt.txt', '2084021870_ocr.txt', '2084022002_gt.txt', '2084022002_ocr.txt', '2084022076_gt.txt', '2084022076_ocr.txt', '2084022124_gt.txt', '2084022124_ocr.txt', '2084022128_gt.txt', '2084022128_ocr.txt', '2084022136_gt.txt', '2084022136_ocr.txt', '2084022139_gt.txt', '2084022139_ocr.txt', '2084022143_gt.txt', '2084022143_ocr.txt', '2084022167_gt.txt', '2084022167_ocr.txt', '2084022184_gt.txt', '2084022184_ocr.txt', '2084022243_gt.txt', '2084022243_ocr.txt', '2084022300_gt.txt', '2084022300_ocr.txt', '2084022313_gt.txt', '2084022313_ocr.txt', '2084022317_gt.txt', '2084022317_ocr.txt', '2084022347_gt.txt', '2084022347_ocr.txt', '2084022414_gt.txt', '2084022414_ocr.txt', '2084022482_gt.txt', '2084022482_ocr.txt', '2084022539_gt.txt', '2084022539_ocr.txt', '2084022627_gt.txt', '2084022627_ocr.txt', '2084022805_gt.txt', '2084022805_ocr.txt', '2084024707_gt.txt', '2084024707_ocr.txt', '2085529729_gt.txt', '2085529729_ocr.txt', '2085532852_gt.txt', '2085532852_ocr.txt', '2085534883_gt.txt', '2085534883_ocr.txt', '2085538659_gt.txt', '2085538659_ocr.txt', '2085538660_gt.txt', '2085538660_ocr.txt', '2085538756_gt.txt', '2085538756_ocr.txt', '2085539738_gt.txt', '2085539738_ocr.txt', '2085540098_gt.txt', '2085540098_ocr.txt', '2085540620_gt.txt', '2085540620_ocr.txt', '2085699092_gt.txt', '2085699092_ocr.txt', '2085699260_gt.txt', '2085699260_ocr.txt', '2085699682_gt.txt', '2085699682_ocr.txt', '2501335209_2501335213_gt.txt', '2501335209_2501335213_ocr.txt', '2501336275_2501336276_gt.txt', '2501336275_2501336276_ocr.txt', '2501336291_2501336296_gt.txt', '2501336291_2501336296_ocr.txt', '2501336351_gt.txt', '2501336351_ocr.txt', '2501336486_gt.txt', '2501336486_ocr.txt', '2501336772_gt.txt', '2501336772_ocr.txt', '2501367970_2501368014_gt.txt', '2501367970_2501368014_ocr.txt', '2501368827_gt.txt', '2501368827_ocr.txt', '2501374061_2501374062_gt.txt', '2501374061_2501374062_ocr.txt', '2501605386_gt.txt', '2501605386_ocr.txt', '2502268385_gt.txt', '2502268385_ocr.txt', '2505118349_gt.txt', '2505118349_ocr.txt', '2505123539_3542_gt.txt', '2505123539_3542_ocr.txt', '2505165622_gt.txt', '2505165622_ocr.txt', '500124393+-4395_gt.txt', '500124393+-4395_ocr.txt', '500125099+-5100_gt.txt', '500125099+-5100_ocr.txt', '500125481+-5481_gt.txt', '500125481+-5481_ocr.txt', '500234635+-4635_gt.txt', '500234635+-4635_ocr.txt', '501149455_gt.txt', '501149455_ocr.txt', '50120516-0516_gt.txt', '50120516-0516_ocr.txt', '501526349_gt.txt', '501526349_ocr.txt', '502329893_gt.txt', '502329893_ocr.txt', '503116428+-6428_gt.txt', '503116428+-6428_ocr.txt', '503116473+-6473_gt.txt', '503116473+-6473_ocr.txt', '503731884+-1884_gt.txt', '503731884+-1884_ocr.txt', '503918489+-8489_gt.txt', '503918489+-8489_ocr.txt', '504023473_504023487_gt.txt', '504023473_504023487_ocr.txt', '505852048_505852049_gt.txt', '505852048_505852049_ocr.txt', '505863295_gt.txt', '505863295_ocr.txt', '506133684_gt.txt', '506133684_ocr.txt', '506413423_gt.txt', '506413423_ocr.txt', '506593709+-3709_gt.txt', '506593709+-3709_ocr.txt', '507053446_gt.txt', '507053446_ocr.txt', '507484246_gt.txt', '507484246_ocr.txt', '507876895_gt.txt', '507876895_ocr.txt', '508560943+-0943_gt.txt', '508560943+-0943_ocr.txt', '508725601+-5603_gt.txt', '508725601+-5603_ocr.txt', '512981600_512981601_gt.txt', '512981600_512981601_ocr.txt', '512981614_gt.txt', '512981614_ocr.txt', '512984376_gt.txt', '512984376_ocr.txt', '512985656_512985715_gt.txt', '512985656_512985715_ocr.txt', '513161378_513161414_gt.txt', '513161378_513161414_ocr.txt', '513162677_gt.txt', '513162677_ocr.txt', '513167179_gt.txt', '513167179_ocr.txt', '513265741_513265875_gt.txt', '513265741_513265875_ocr.txt', '514218180+-8181_gt.txt', '514218180+-8181_ocr.txt', '514802406+-2409_gt.txt', '514802406+-2409_ocr.txt', '514858504_514858506_gt.txt', '514858504_514858506_ocr.txt', '514858736_gt.txt', '514858736_ocr.txt', '514967102+-7103_gt.txt', '514967102+-7103_ocr.txt', '515618394+-8397_gt.txt', '515618394+-8397_ocr.txt', '518029843_518029864_gt.txt', '518029843_518029864_ocr.txt', '518232323+-2324_gt.txt', '518232323+-2324_ocr.txt', '518232342+-2342_gt.txt', '518232342+-2342_ocr.txt', '518232874+-2876_gt.txt', '518232874+-2876_ocr.txt', '518232927+-2934_gt.txt', '518232927+-2934_ocr.txt', '518240658+-0669_gt.txt', '518240658+-0669_ocr.txt', '518253165+-3165_gt.txt', '518253165+-3165_ocr.txt', '518253587+-3590_gt.txt', '518253587+-3590_ocr.txt', '518253610+-3615_gt.txt', '518253610+-3615_ocr.txt', '518253689+-3695_gt.txt', '518253689+-3695_ocr.txt', '518253707+-3715_gt.txt', '518253707+-3715_ocr.txt', '518256338+-6338_gt.txt', '518256338+-6338_ocr.txt', '518259424+-9431_gt.txt', '518259424+-9431_ocr.txt', '518284417+-4420_gt.txt', '518284417+-4420_ocr.txt', '518284421+-4430_gt.txt', '518284421+-4430_ocr.txt', '518491313+-1315_gt.txt', '518491313+-1315_ocr.txt', '518492684+-2684_gt.txt', '518492684+-2684_ocr.txt', '521107137+-7140_gt.txt', '521107137+-7140_ocr.txt', '524483561+-3562_gt.txt', '524483561+-3562_ocr.txt', '524630313+-0313_gt.txt', '524630313+-0313_ocr.txt', '526450292+-0292_gt.txt', '526450292+-0292_ocr.txt', '526450353+-0353_gt.txt', '526450353+-0353_ocr.txt', '526450388+-0388_gt.txt', '526450388+-0388_ocr.txt', '526509181+-9181_gt.txt', '526509181+-9181_ocr.txt', '580108985+-8990_gt.txt', '580108985+-8990_ocr.txt', '80211548_gt.txt', '80211548_ocr.txt', '80211567_gt.txt', '80211567_ocr.txt', '80233633_gt.txt', '80233633_ocr.txt', '80233696_gt.txt', '80233696_ocr.txt', '80233716_gt.txt', '80233716_ocr.txt', '80233719_gt.txt', '80233719_ocr.txt', '80702654_gt.txt', '80702654_ocr.txt', '81615715_gt.txt', '81615715_ocr.txt', '82867969_gt.txt', '82867969_ocr.txt', '82898406_gt.txt', '82898406_ocr.txt', '82898524_gt.txt', '82898524_ocr.txt', '82898529_gt.txt', '82898529_ocr.txt', '82898533_gt.txt', '82898533_ocr.txt', '83096148_gt.txt', '83096148_ocr.txt', '83096187_gt.txt', '83096187_ocr.txt', '83312574_2575_gt.txt', '83312574_2575_ocr.txt', '83542431_gt.txt', '83542431_ocr.txt', '83542445_2446_gt.txt', '83542445_2446_ocr.txt', '83542513_gt.txt', '83542513_ocr.txt', '83544771_gt.txt', '83544771_ocr.txt', '83553533_gt.txt', '83553533_ocr.txt', '83553545_gt.txt', '83553545_ocr.txt', '83553577_3578_gt.txt', '83553577_3578_ocr.txt', '83554921_gt.txt', '83554921_ocr.txt', '83565210_5211_gt.txt', '83565210_5211_ocr.txt', '83565318_gt.txt', '83565318_ocr.txt', '83565418_gt.txt', '83565418_ocr.txt', '83565599_gt.txt', '83565599_ocr.txt', '83644925_gt.txt', '83644925_ocr.txt', '83645391_gt.txt', '83645391_ocr.txt', '83962761_gt.txt', '83962761_ocr.txt', '86018092_gt.txt', '86018092_ocr.txt', '86086825_6826_gt.txt', '86086825_6826_ocr.txt', '86087013_gt.txt', '86087013_ocr.txt', '86087317_gt.txt', '86087317_ocr.txt', '86087318_7321_gt.txt', '86087318_7321_ocr.txt', '86087420_7422_gt.txt', '86087420_7422_ocr.txt', '86087462_gt.txt', '86087462_ocr.txt', '86087495_7496_gt.txt', '86087495_7496_ocr.txt', '86462566_gt.txt', '86462566_ocr.txt', '86462803_gt.txt', '86462803_ocr.txt', '86462933_gt.txt', '86462933_ocr.txt', '86463030_gt.txt', '86463030_ocr.txt', '86618995_gt.txt', '86618995_ocr.txt', '86619006_gt.txt', '86619006_ocr.txt', '86619053_gt.txt', '86619053_ocr.txt', '87021931_gt.txt', '87021931_ocr.txt', '87104311_gt.txt', '87104311_ocr.txt', '87147464_gt.txt', '87147464_ocr.txt', '87147646_gt.txt', '87147646_ocr.txt', '87147658_gt.txt', '87147658_ocr.txt', '87147801_gt.txt', '87147801_ocr.txt', '87148191_gt.txt', '87148191_ocr.txt', '87803126_gt.txt', '87803126_ocr.txt', '87803300_gt.txt', '87803300_ocr.txt', '87803303_gt.txt', '87803303_ocr.txt', '89000106_gt.txt', '89000106_ocr.txt', '89703081_gt.txt', '89703081_ocr.txt', '91382505_gt.txt', '91382505_ocr.txt', '91543951_3952_gt.txt', '91543951_3952_ocr.txt', '91575506_5509_gt.txt', '91575506_5509_ocr.txt', '91660729_gt.txt', '91660729_ocr.txt', '91660806_gt.txt', '91660806_ocr.txt', '91668026_gt.txt', '91668026_ocr.txt', '91691919_gt.txt', '91691919_ocr.txt', '91781209_gt.txt', '91781209_ocr.txt', '92173709_gt.txt', '92173709_ocr.txt', '92185547_gt.txt', '92185547_ocr.txt', '92185588_gt.txt', '92185588_ocr.txt', '92204693_gt.txt', '92204693_ocr.txt', '92214362_gt.txt', '92214362_ocr.txt', '92243549_gt.txt', '92243549_ocr.txt', '92856427_gt.txt', '92856427_ocr.txt', '92857105_7106_gt.txt', '92857105_7106_ocr.txt', '92857672_7674_gt.txt', '92857672_7674_ocr.txt', '92872435_gt.txt', '92872435_ocr.txt', '92872589_gt.txt', '92872589_ocr.txt', '92873320_3322_gt.txt', '92873320_3322_ocr.txt', '92891078_1079_gt.txt', '92891078_1079_ocr.txt', '93115392_gt.txt', '93115392_ocr.txt', '93118029_gt.txt', '93118029_ocr.txt', '93118328_gt.txt', '93118328_ocr.txt', '93216067_gt.txt', '93216067_ocr.txt', '93413397_gt.txt', '93413397_ocr.txt', '93416591_gt.txt', '93416591_ocr.txt', '94389911_gt.txt', '94389911_ocr.txt', '96052028_gt.txt', '96052028_ocr.txt', '96063482_gt.txt', '96063482_ocr.txt', '96063504_gt.txt', '96063504_ocr.txt', '96403982_gt.txt', '96403982_ocr.txt', '97072207_gt.txt', '97072207_ocr.txt', '99380614_gt.txt', '99380614_ocr.txt', '99380808_0809_gt.txt', '99380808_0809_ocr.txt', 'CTRCONTRACTS011517-1_gt.txt', 'CTRCONTRACTS011517-1_ocr.txt', 'CTRCONTRACTS017922-7_gt.txt', 'CTRCONTRACTS017922-7_ocr.txt', 'CTRCONTRACTS017947-7_gt.txt', 'CTRCONTRACTS017947-7_ocr.txt', 'CTRSP-FILES025078-50_gt.txt', 'CTRSP-FILES025078-50_ocr.txt', 'ti00911106_1107_gt.txt', 'ti00911106_1107_ocr.txt', 'ti01410937_gt.txt', 'ti01410937_ocr.txt', 'ti01410980_gt.txt', 'ti01410980_ocr.txt', 'ti09920313_gt.txt', 'ti09920313_ocr.txt', 'ti09922229_gt.txt', 'ti09922229_ocr.txt', 'ti10160632_gt.txt', 'ti10160632_ocr.txt', 'ti15358056_8057_gt.txt', 'ti15358056_8057_ocr.txt', 'ti15609058_gt.txt', 'ti15609058_ocr.txt', 'ti16131011_1013_gt.txt', 'ti16131011_1013_ocr.txt', 'ti16310048_gt.txt', 'ti16310048_ocr.txt', 'ti16310079_gt.txt', 'ti16310079_ocr.txt', 'ti16310152_gt.txt', 'ti16310152_ocr.txt', 'ti16310260_gt.txt', 'ti16310260_ocr.txt', 'ti16310262_gt.txt', 'ti16310262_ocr.txt', 'ti16310336_gt.txt', 'ti16310336_ocr.txt', 'ti16310407_gt.txt', 'ti16310407_ocr.txt', 'ti16310543_gt.txt', 'ti16310543_ocr.txt', 'ti16310545_gt.txt', 'ti16310545_ocr.txt', 'ti16310660_gt.txt', 'ti16310660_ocr.txt', 'ti16310857_gt.txt', 'ti16310857_ocr.txt', 'ti16310917_gt.txt', 'ti16310917_ocr.txt', 'ti16311032_gt.txt', 'ti16311032_ocr.txt', 'ti16311096_gt.txt', 'ti16311096_ocr.txt', 'ti16311155_gt.txt', 'ti16311155_ocr.txt', 'ti16311156_gt.txt', 'ti16311156_ocr.txt', 'ti16400164_gt.txt', 'ti16400164_ocr.txt', 'ti16400238_gt.txt', 'ti16400238_ocr.txt', 'ti16400316_gt.txt', 'ti16400316_ocr.txt', 'ti16400373_gt.txt', 'ti16400373_ocr.txt', 'ti16400388_gt.txt', 'ti16400388_ocr.txt', 'ti16400444_gt.txt', 'ti16400444_ocr.txt', 'ti16532219_2220_gt.txt', 'ti16532219_2220_ocr.txt', 'ti16801274_gt.txt', 'ti16801274_ocr.txt', 'ti17120027_gt.txt', 'ti17120027_ocr.txt', 'ti17120099_gt.txt', 'ti17120099_ocr.txt', 'ti17120370_gt.txt', 'ti17120370_ocr.txt', 'ti17120431_gt.txt', 'ti17120431_ocr.txt', 'ti17120498_gt.txt', 'ti17120498_ocr.txt', 'ti17120743_gt.txt', 'ti17120743_ocr.txt', 'ti17120992_gt.txt', 'ti17120992_ocr.txt', 'ti31149327_9330_gt.txt', 'ti31149327_9330_ocr.txt', 'ti31689113_gt.txt', 'ti31689113_ocr.txt', 'ti31689150_gt.txt', 'ti31689150_ocr.txt', 'tob02910.64_gt.txt', 'tob02910.64_ocr.txt']\n"
     ]
    }
   ],
   "source": [
    "print(label_file_path)\n",
    "print(label_filenames)"
   ]
  },
  {
   "cell_type": "markdown",
   "metadata": {},
   "source": [
    "Converting tif images and text into LSTM files\n",
    "\n",
    "the conversion is taking place in the shell and will output the files "
   ]
  },
  {
   "cell_type": "code",
   "execution_count": 6,
   "metadata": {},
   "outputs": [],
   "source": [
    "import os\n",
    "import subprocess\n",
    "\n",
    "# Directories for images and labels\n",
    "image_dir = r'C:\\Users\\andre\\Documents\\Data science portfolio projects\\trinity\\data\\images'\n",
    "label_dir = r'C:\\Users\\andre\\Documents\\Data science portfolio projects\\trinity\\data\\labels'\n",
    "\n",
    "# Convert Images and Text to Tesseract's Format\n",
    "for image_file in os.listdir(image_dir):\n",
    "    # Assuming the image and label filenames (without extension) are the same\n",
    "    base_name = os.path.splitext(image_file)[0]\n",
    "    image_path = os.path.join(image_dir, image_file)\n",
    "    output_name = os.path.join(image_dir, base_name)\n",
    "\n",
    "    # Generate .lstmf file for each image\n",
    "    command = f\"tesseract {image_path} {output_name} --psm 6 lstm.train\"\n",
    "    subprocess.run(command, shell=True)\n",
    "\n",
    "# Create a List of LSTM Files\n",
    "lstmf_files = [f for f in os.listdir(image_dir) if f.endswith('.lstmf')]\n",
    "with open('all-lstmf', 'w') as f:\n",
    "    for file in lstmf_files:\n",
    "        f.write(file + '\\n')"
   ]
  },
  {
   "cell_type": "markdown",
   "metadata": {},
   "source": [
    "Using pre-trained tesseract model w/ spaCy package for NER functionality"
   ]
  },
  {
   "cell_type": "code",
   "execution_count": 7,
   "metadata": {},
   "outputs": [
    {
     "name": "stdout",
     "output_type": "stream",
     "text": [
      "Processed 520 images. OCR results stored in C:\\Users\\andre\\Documents\\Data science portfolio projects\\trinity\\data\\ocr_results. NER results stored in C:\\Users\\andre\\Documents\\Data science portfolio projects\\trinity\\data\\ner_results.\n"
     ]
    }
   ],
   "source": [
    "import os\n",
    "import spacy\n",
    "from PIL import Image\n",
    "import pytesseract\n",
    "\n",
    "# Set Tesseract path\n",
    "pytesseract.pytesseract.tesseract_cmd = r'C:\\Program Files\\Tesseract-OCR\\tesseract.exe'\n",
    "\n",
    "# Load spaCy model\n",
    "nlp = spacy.load(\"en_core_web_sm\")\n",
    "\n",
    "image_dir = r'C:\\Users\\andre\\Documents\\Data science portfolio projects\\trinity\\data\\images'\n",
    "ocr_output_dir = r'C:\\Users\\andre\\Documents\\Data science portfolio projects\\trinity\\data\\ocr_results'\n",
    "ner_output_dir = r'C:\\Users\\andre\\Documents\\Data science portfolio projects\\trinity\\data\\ner_results'\n",
    "\n",
    "# Check and create output directories if not exists\n",
    "for dir in [ocr_output_dir, ner_output_dir]:\n",
    "    if not os.path.exists(dir):\n",
    "        os.makedirs(dir)\n",
    "\n",
    "for image_file in os.listdir(image_dir):\n",
    "    image_path = os.path.join(image_dir, image_file)\n",
    "    image = Image.open(image_path)\n",
    "    \n",
    "    # Extract text from the image\n",
    "    extracted_text = pytesseract.image_to_string(image)\n",
    "    \n",
    "    # Save the extracted text to a .txt file\n",
    "    ocr_output_file_path = os.path.join(ocr_output_dir, os.path.splitext(image_file)[0] + '.txt')\n",
    "    with open(ocr_output_file_path, 'w') as f:\n",
    "        f.write(extracted_text)\n",
    "    \n",
    "    # Process the extracted text with spaCy for NER\n",
    "    doc = nlp(extracted_text)\n",
    "    named_entities = [f\"{entity.text} ({entity.label_})\" for entity in doc.ents]\n",
    "    \n",
    "    # Save the named entities to a .txt file\n",
    "    ner_output_file_path = os.path.join(ner_output_dir, os.path.splitext(image_file)[0] + '.txt')\n",
    "    with open(ner_output_file_path, 'w') as f:\n",
    "        for entity in named_entities:\n",
    "            f.write(entity + '\\n')\n",
    "\n",
    "print(f\"Processed {len(os.listdir(image_dir))} images. OCR results stored in {ocr_output_dir}. NER results stored in {ner_output_dir}.\")"
   ]
  },
  {
   "cell_type": "markdown",
   "metadata": {},
   "source": [
    "Below is the code without NER functionality"
   ]
  },
  {
   "cell_type": "code",
   "execution_count": 8,
   "metadata": {},
   "outputs": [
    {
     "name": "stdout",
     "output_type": "stream",
     "text": [
      "Processed 520 images. Results stored in C:\\Users\\andre\\Documents\\Data science portfolio projects\\trinity\\data\\ocr_results.\n"
     ]
    }
   ],
   "source": [
    "import pytesseract\n",
    "from PIL import Image\n",
    "\n",
    "#because tesseract is in the program files dir, specify the location of the package before excuting the model\n",
    "pytesseract.pytesseract.tesseract_cmd = r'C:\\Program Files\\Tesseract-OCR\\tesseract.exe'\n",
    "\n",
    "image_dir = r'C:\\Users\\andre\\Documents\\Data science portfolio projects\\trinity\\data\\images'\n",
    "output_dir = r'C:\\Users\\andre\\Documents\\Data science portfolio projects\\trinity\\data\\ocr_results'\n",
    "\n",
    "# Check and create output directory if not exists\n",
    "if not os.path.exists(output_dir):\n",
    "    os.makedirs(output_dir)\n",
    "\n",
    "for image_file in os.listdir(image_dir):\n",
    "    image_path = os.path.join(image_dir, image_file)\n",
    "    image = Image.open(image_path)\n",
    "    \n",
    "    # Extract text from the image\n",
    "    extracted_text = pytesseract.image_to_string(image)\n",
    "    \n",
    "    # Save the extracted text to a .txt file\n",
    "    output_file_path = os.path.join(output_dir, os.path.splitext(image_file)[0] + '.txt')\n",
    "    with open(output_file_path, 'w') as f:\n",
    "        f.write(extracted_text)\n",
    "\n",
    "print(f\"Processed {len(os.listdir(image_dir))} images. Results stored in {output_dir}.\")"
   ]
  }
 ],
 "metadata": {
  "kernelspec": {
   "display_name": "Python 3",
   "language": "python",
   "name": "python3"
  },
  "language_info": {
   "codemirror_mode": {
    "name": "ipython",
    "version": 3
   },
   "file_extension": ".py",
   "mimetype": "text/x-python",
   "name": "python",
   "nbconvert_exporter": "python",
   "pygments_lexer": "ipython3",
   "version": "3.11.1"
  },
  "orig_nbformat": 4
 },
 "nbformat": 4,
 "nbformat_minor": 2
}
